{
  "nbformat": 4,
  "nbformat_minor": 0,
  "metadata": {
    "colab": {
      "name": "Genomics_ML_Part2",
      "provenance": [],
      "collapsed_sections": [],
      "mount_file_id": "1y9pDZAjGnUBID6rR16c00n4_JhM700ZG",
      "authorship_tag": "ABX9TyNdgsnqoy5Fh1evEPxocK3G",
      "include_colab_link": true
    },
    "kernelspec": {
      "name": "python3",
      "display_name": "Python 3"
    }
  },
  "cells": [
    {
      "cell_type": "markdown",
      "metadata": {
        "id": "view-in-github",
        "colab_type": "text"
      },
      "source": [
        "<a href=\"https://colab.research.google.com/github/MahlaMirali/Genomics_MachineLearning/blob/master/Genomics_ML_Part2.ipynb\" target=\"_parent\"><img src=\"https://colab.research.google.com/assets/colab-badge.svg\" alt=\"Open In Colab\"/></a>"
      ]
    },
    {
      "cell_type": "markdown",
      "metadata": {
        "id": "fii6w7xWu9Eq",
        "colab_type": "text"
      },
      "source": [
        "#Import libraries/ file"
      ]
    },
    {
      "cell_type": "code",
      "metadata": {
        "id": "v7RN1UrgufMO",
        "colab_type": "code",
        "colab": {}
      },
      "source": [
        "!pip install -U git+http://github.com/scikit-learn-contrib/imbalanced-learn.git\n",
        "# !pip install -U imbalanced-learn\n",
        "%matplotlib inline\n",
        "import matplotlib.pyplot as plt\n",
        "from google.colab import drive\n",
        "import pandas as pd\n",
        "import numpy as np\n",
        "from pprint import pprint\n",
        "\n",
        "# dealing with imbalanced data\n",
        "from imblearn.over_sampling import SMOTE \n",
        "from imblearn.over_sampling import RandomOverSampler \n",
        "from imblearn.datasets import make_imbalance\n",
        "from imblearn.under_sampling import NearMiss\n",
        "from imblearn.pipeline import make_pipeline\n",
        "from imblearn.metrics import classification_report_imbalanced\n",
        "\n",
        "from sklearn.feature_extraction.text import CountVectorizer\n",
        "from sklearn.naive_bayes import MultinomialNB\n",
        "from sklearn.model_selection import train_test_split, KFold, cross_val_score, GridSearchCV\n",
        "from sklearn import neighbors\n",
        "from sklearn.neighbors import KNeighborsClassifier\n",
        "from sklearn.ensemble import RandomForestClassifier\n",
        "from sklearn.svm import SVC"
      ],
      "execution_count": null,
      "outputs": []
    },
    {
      "cell_type": "code",
      "metadata": {
        "id": "VEkGXjGIvHjD",
        "colab_type": "code",
        "colab": {}
      },
      "source": [
        "# Read data from goolge colab\n",
        "drive.mount('/content/drive')\n",
        "!cp '/content/drive/My Drive/clauw.2016/DNA.csv' 'DNA.csv'\n",
        "!ls"
      ],
      "execution_count": null,
      "outputs": []
    },
    {
      "cell_type": "markdown",
      "metadata": {
        "id": "ZS26EO_GvNFq",
        "colab_type": "text"
      },
      "source": [
        "# EDA"
      ]
    },
    {
      "cell_type": "code",
      "metadata": {
        "id": "p2LpDrsOvKQG",
        "colab_type": "code",
        "colab": {
          "base_uri": "https://localhost:8080/",
          "height": 225
        },
        "outputId": "12397d4c-4e61-4a20-c010-a69948677757"
      },
      "source": [
        "# reading the DNA file\n",
        "DNA = pd.read_csv('DNA.csv')\n",
        "print(len(DNA))\n",
        "# removing the unnmaed column\n",
        "DNA.rename({\"Unnamed: 0\":\"a\"}, axis=\"columns\", inplace=True)\n",
        "DNA.drop([\"a\"], axis=1, inplace=True)\n",
        "DNA.head(5)"
      ],
      "execution_count": 4,
      "outputs": [
        {
          "output_type": "stream",
          "text": [
            "925\n"
          ],
          "name": "stdout"
        },
        {
          "output_type": "execute_result",
          "data": {
            "text/html": [
              "<div>\n",
              "<style scoped>\n",
              "    .dataframe tbody tr th:only-of-type {\n",
              "        vertical-align: middle;\n",
              "    }\n",
              "\n",
              "    .dataframe tbody tr th {\n",
              "        vertical-align: top;\n",
              "    }\n",
              "\n",
              "    .dataframe thead th {\n",
              "        text-align: right;\n",
              "    }\n",
              "</style>\n",
              "<table border=\"1\" class=\"dataframe\">\n",
              "  <thead>\n",
              "    <tr style=\"text-align: right;\">\n",
              "      <th></th>\n",
              "      <th>Sequence</th>\n",
              "      <th>Stress</th>\n",
              "    </tr>\n",
              "  </thead>\n",
              "  <tbody>\n",
              "    <tr>\n",
              "      <th>0</th>\n",
              "      <td>ATGGGAAATAGCAGCGAGGAACCAAAGCCTCCTACCAAATCAGATA...</td>\n",
              "      <td>0</td>\n",
              "    </tr>\n",
              "    <tr>\n",
              "      <th>1</th>\n",
              "      <td>ATGGGAAATAGCAGCGAGGAACCAAAGCCTCCTACCAAATCAGATA...</td>\n",
              "      <td>0</td>\n",
              "    </tr>\n",
              "    <tr>\n",
              "      <th>2</th>\n",
              "      <td>ATGGGAAATAGCAGCGAGGAACCAAAGCCTCCTACCAAATCAGATA...</td>\n",
              "      <td>0</td>\n",
              "    </tr>\n",
              "    <tr>\n",
              "      <th>3</th>\n",
              "      <td>ATGACAGAAGGTGGAGAATATTCTCCGGCGATGATGTCAGCAGAGC...</td>\n",
              "      <td>0</td>\n",
              "    </tr>\n",
              "    <tr>\n",
              "      <th>4</th>\n",
              "      <td>ATGACAGAAGGTGGAGAATATTCTCCGGCGATGATGTCAGCAGAGC...</td>\n",
              "      <td>0</td>\n",
              "    </tr>\n",
              "  </tbody>\n",
              "</table>\n",
              "</div>"
            ],
            "text/plain": [
              "                                            Sequence  Stress\n",
              "0  ATGGGAAATAGCAGCGAGGAACCAAAGCCTCCTACCAAATCAGATA...       0\n",
              "1  ATGGGAAATAGCAGCGAGGAACCAAAGCCTCCTACCAAATCAGATA...       0\n",
              "2  ATGGGAAATAGCAGCGAGGAACCAAAGCCTCCTACCAAATCAGATA...       0\n",
              "3  ATGACAGAAGGTGGAGAATATTCTCCGGCGATGATGTCAGCAGAGC...       0\n",
              "4  ATGACAGAAGGTGGAGAATATTCTCCGGCGATGATGTCAGCAGAGC...       0"
            ]
          },
          "metadata": {
            "tags": []
          },
          "execution_count": 4
        }
      ]
    },
    {
      "cell_type": "code",
      "metadata": {
        "id": "RBoPedlGpp76",
        "colab_type": "code",
        "colab": {
          "base_uri": "https://localhost:8080/",
          "height": 74
        },
        "outputId": "be0da895-9220-412f-aee1-ae39566ec475"
      },
      "source": [
        "print(DNA['Sequence'][0])\n",
        "print(len(DNA['Sequence'][0]))"
      ],
      "execution_count": 44,
      "outputs": [
        {
          "output_type": "stream",
          "text": [
            "ATGGGAAATAGCAGCGAGGAACCAAAGCCTCCTACCAAATCAGATAAACCATCTTCACCCCCGGTGGATCAAACAAATGTTCATGTCTACCCTGATTGGGCAGCTATGCAGGCATATTATGGTCCAAGAGTAGCAATGCCTCCTTATTACAATTCAGCTATGGCTGCATCTGGTCATCCTCCTCCTCCTTACATGTGGAATCCTCAGCATATGATGTCACCATATGGAGCACCCTATGCTGCTGTTTATCCTCATGGAGGAGGAGTTTACGCTCATCCCGGTATTCCCATGGGATCACTGCCTCAAGGTCAAAAGGATCCACCTTTAACAACTCCGGGGACGCTTTTGAGCATCGACACTCCTACTAAATCTACAGGGAACACAGACAATGGATTGATGAAGAAGCTGAAAGAGTTTGATGGGCTTGCTATGTCTCTAGGAAATGGGAATCCTGAAAATGGTGCAGATGAACATAAACGATCACGGAACAGCTCAGAAACTGATGGTTCTACTGATGGAAGTGATGGGAATACAACTGGGGCAGATGAACCGAAACTTAAAAGAAGTCGAGAGGGAACTCCAACAAAAGATGGGAAACAATTGGTTCAAGCTAGCTCATTTCATTCTGTTTCTCCGTCAAGTGGTGATACCGGCGTAAAACTCATTCAAGGATCTGGAGCTATACTCTCTCCTGGTAACGAGAGAGAACTGAAACGGGAGCGAAGGAAACAGTCTAATAGAGAATCTGCTAGAAGGTCAAGATTAAGGAAACAGGCCGAGACAGAAGAACTTGCTAGGAAAGTGGAAGCCTTGACAGCCGAAAACATGGCATTAAGATCTGAACTAAACCAACTTAATGAGAAATCTGATAAACTAAGAGGAGCAAATGCAACCTTGTTGGACAAACTGAAATGCTCGGAACCCGAAAAGAGAGTCCCCGCAAATATGTTGTCTAGAGTTAAGAACTCAGGAGCTGGAGATAAGAACAAGAACCAAGGAGACAATGATTCTAACTCTACAAGCAAATTGCATCAACTGCTCGATACGAAGCCTCGAGCTAAAGCAGTAGCTGCAGGCTGA\n",
            "1080\n"
          ],
          "name": "stdout"
        }
      ]
    },
    {
      "cell_type": "code",
      "metadata": {
        "id": "fapHj_e1vVkq",
        "colab_type": "code",
        "colab": {
          "base_uri": "https://localhost:8080/",
          "height": 283
        },
        "outputId": "e5617ba7-5784-4cc0-c459-9f011b552f82"
      },
      "source": [
        "# check the balance of the dataset\n",
        "DNA['Stress'].value_counts().sort_index().plot.bar()\n",
        "# 0:'ABA', 1:'Overdrou', 2:'OSM', 3:'JA', 4:'ET', 5:'WaterDepr'"
      ],
      "execution_count": null,
      "outputs": [
        {
          "output_type": "execute_result",
          "data": {
            "text/plain": [
              "<matplotlib.axes._subplots.AxesSubplot at 0x7fc5d9f258d0>"
            ]
          },
          "metadata": {
            "tags": []
          },
          "execution_count": 7
        },
        {
          "output_type": "display_data",
          "data": {
            "image/png": "[encoded data removed]",
            "text/plain": [
              "<Figure size 432x288 with 1 Axes>"
            ]
          },
          "metadata": {
            "tags": [],
            "needs_background": "light"
          }
        }
      ]
    },
    {
      "cell_type": "markdown",
      "metadata": {
        "id": "TAbT7ym_voPO",
        "colab_type": "text"
      },
      "source": [
        "# Data Preprocessing"
      ]
    },
    {
      "cell_type": "code",
      "metadata": {
        "id": "4G7qBIl8vstg",
        "colab_type": "code",
        "colab": {}
      },
      "source": [
        "# changing the sequences into words\n",
        "def getKmers(sequence, size=6):\n",
        "  return[sequence[x:x+size].lower() for x in range(len(sequence) - size + 1)]\n",
        "\n",
        "DNA['words'] = DNA.apply(lambda x:getKmers(x['Sequence']), axis=1)\n",
        "DNA = DNA.drop(['Sequence'], axis=1)\n",
        "DNA_texts =  list(DNA['words'])\n",
        "\n",
        "for item in range(len(DNA_texts)):\n",
        "  # if len(DNA['words']) == 6:\n",
        "    DNA_texts[item] = ' '.join(DNA_texts[item])\n",
        "\n",
        "# creating the bag of words\n",
        "cv = CountVectorizer(ngram_range=(4,4))\n",
        "x = cv.fit_transform(DNA_texts)\n",
        "# print(cv.get_feature_names())    "
      ],
      "execution_count": 5,
      "outputs": []
    },
    {
      "cell_type": "markdown",
      "metadata": {
        "id": "ie9wWfjxwF3Q",
        "colab_type": "text"
      },
      "source": [
        "# Functions"
      ]
    },
    {
      "cell_type": "code",
      "metadata": {
        "id": "oO9yEvNEAc-k",
        "colab_type": "code",
        "colab": {}
      },
      "source": [
        "def model_fit(model, DNA):\n",
        "    y = DNA.iloc[:,0].values\n",
        "    x = cv.fit_transform(DNA_texts)\n",
        "    x_train, x_test, y_train, y_test = train_test_split(x, y, random_state=42)\n",
        "    # undersampling since the dataset is imbalanced\n",
        "    pipeline = make_pipeline(NearMiss(version=2), model)\n",
        "    pipeline.fit(x_train, y_train)\n",
        "    print(classification_report_imbalanced(y_test, pipeline.predict(x_test))) # precision/recall/specificity, geometric mean, and index balanced accuracy of the geometric mean\n",
        "    return x_train, x_test, y_train, y_test\n",
        "\n",
        "def BestParams(model, param_grid):\n",
        "    # Create a based model\n",
        "    grid_search = GridSearchCV(model, param_grid = param_grid) #, cv = 5, n_jobs = -1, verbose = 2)\n",
        "    # Fit the grid search to the data\n",
        "    grid_search.fit(x_train, y_train)\n",
        "    print(grid_search.best_params_) "
      ],
      "execution_count": 8,
      "outputs": []
    },
    {
      "cell_type": "markdown",
      "metadata": {
        "id": "arCSjIhaPAOd",
        "colab_type": "text"
      },
      "source": [
        "# Model #1: Random Forest"
      ]
    },
    {
      "cell_type": "markdown",
      "metadata": {
        "id": "WCZUC7qGtOXi",
        "colab_type": "text"
      },
      "source": [
        "Original Model"
      ]
    },
    {
      "cell_type": "code",
      "metadata": {
        "id": "Bz3cqYumN9tb",
        "colab_type": "code",
        "colab": {
          "base_uri": "https://localhost:8080/",
          "height": 223
        },
        "outputId": "f37db137-e3e1-4c2e-c693-be88c36f0929"
      },
      "source": [
        "x_train, x_test, y_train, y_test = model_fit(RandomForestClassifier(), DNA) "
      ],
      "execution_count": 9,
      "outputs": [
        {
          "output_type": "stream",
          "text": [
            "                   pre       rec       spe        f1       geo       iba       sup\n",
            "\n",
            "          0       0.10      0.07      0.86      0.09      0.25      0.06        41\n",
            "          1       0.73      0.32      0.92      0.45      0.55      0.28        93\n",
            "          2       0.27      0.53      0.90      0.36      0.69      0.46        15\n",
            "          3       0.18      0.47      0.66      0.26      0.55      0.30        32\n",
            "          4       0.06      0.13      0.87      0.09      0.34      0.11        15\n",
            "          5       0.24      0.11      0.93      0.15      0.32      0.10        36\n",
            "\n",
            "avg / total       0.39      0.27      0.87      0.28      0.46      0.22       232\n",
            "\n"
          ],
          "name": "stdout"
        }
      ]
    },
    {
      "cell_type": "markdown",
      "metadata": {
        "id": "W4kCpa2sLeik",
        "colab_type": "text"
      },
      "source": [
        "Hyperparameters tuning"
      ]
    },
    {
      "cell_type": "code",
      "metadata": {
        "id": "iWnXuq7erENM",
        "colab_type": "code",
        "colab": {
          "base_uri": "https://localhost:8080/",
          "height": 36
        },
        "outputId": "a3c77bf6-a055-4c42-de46-22d138813ca8"
      },
      "source": [
        "model = RandomForestClassifier()\n",
        "param_grid = {\n",
        "    'bootstrap': [True, False],\n",
        "    'max_depth': [10, 40],\n",
        "    # 'max_features': [30, 70],\n",
        "    'min_samples_leaf': [4,8],\n",
        "    'min_samples_split': [8,  12],\n",
        "    'n_estimators': [50, 200, 600]\n",
        "}\n",
        "\n",
        "BestParams(model, param_grid)"
      ],
      "execution_count": 11,
      "outputs": [
        {
          "output_type": "stream",
          "text": [
            "{'bootstrap': False, 'max_depth': 10, 'min_samples_leaf': 4, 'min_samples_split': 12, 'n_estimators': 600}\n"
          ],
          "name": "stdout"
        }
      ]
    },
    {
      "cell_type": "markdown",
      "metadata": {
        "id": "f95U13LiLeWH",
        "colab_type": "text"
      },
      "source": [
        "Tuned Model"
      ]
    },
    {
      "cell_type": "code",
      "metadata": {
        "id": "UmZXPPyYpewk",
        "colab_type": "code",
        "colab": {
          "base_uri": "https://localhost:8080/",
          "height": 223
        },
        "outputId": "69ab48f9-5517-459e-eeff-7e1430181942"
      },
      "source": [
        "x_train, x_test, y_train, y_test = model_fit(RandomForestClassifier(bootstrap=False, max_depth=10, min_samples_leaf=4,\n",
        "                                 min_samples_split=12, n_estimators=600), DNA)"
      ],
      "execution_count": 12,
      "outputs": [
        {
          "output_type": "stream",
          "text": [
            "                   pre       rec       spe        f1       geo       iba       sup\n",
            "\n",
            "          0       0.13      0.17      0.75      0.15      0.36      0.12        41\n",
            "          1       0.87      0.22      0.98      0.34      0.46      0.19        93\n",
            "          2       0.18      0.53      0.83      0.27      0.67      0.43        15\n",
            "          3       0.42      0.16      0.96      0.23      0.39      0.14        32\n",
            "          4       0.04      0.13      0.76      0.06      0.32      0.10        15\n",
            "          5       0.13      0.17      0.80      0.15      0.37      0.13        36\n",
            "\n",
            "avg / total       0.46      0.21      0.89      0.24      0.42      0.17       232\n",
            "\n"
          ],
          "name": "stdout"
        }
      ]
    },
    {
      "cell_type": "markdown",
      "metadata": {
        "id": "7j3TMTYlw4BY",
        "colab_type": "text"
      },
      "source": [
        "# Model #2: Naive Bayes"
      ]
    },
    {
      "cell_type": "markdown",
      "metadata": {
        "id": "hTEjrGixzgOL",
        "colab_type": "text"
      },
      "source": [
        "Original Model"
      ]
    },
    {
      "cell_type": "code",
      "metadata": {
        "id": "xCeVtfM8PHK7",
        "colab_type": "code",
        "colab": {
          "base_uri": "https://localhost:8080/",
          "height": 223
        },
        "outputId": "1ae22751-b731-4c9b-f27c-ab53009cbb04"
      },
      "source": [
        "x_train, x_test, y_train, y_test = model_fit(MultinomialNB(), DNA)"
      ],
      "execution_count": 13,
      "outputs": [
        {
          "output_type": "stream",
          "text": [
            "                   pre       rec       spe        f1       geo       iba       sup\n",
            "\n",
            "          0       0.10      0.15      0.73      0.12      0.33      0.10        41\n",
            "          1       0.76      0.41      0.91      0.53      0.61      0.35        93\n",
            "          2       0.27      0.53      0.90      0.36      0.69      0.46        15\n",
            "          3       0.30      0.31      0.89      0.31      0.53      0.26        32\n",
            "          4       0.08      0.13      0.89      0.10      0.34      0.11        15\n",
            "          5       0.14      0.14      0.85      0.14      0.34      0.11        36\n",
            "\n",
            "avg / total       0.41      0.30      0.86      0.33      0.50      0.25       232\n",
            "\n"
          ],
          "name": "stdout"
        }
      ]
    },
    {
      "cell_type": "markdown",
      "metadata": {
        "id": "6qsQNYc5orMn",
        "colab_type": "text"
      },
      "source": [
        "Hyperparameters Tuning"
      ]
    },
    {
      "cell_type": "code",
      "metadata": {
        "id": "_U-lyGW3qlOl",
        "colab_type": "code",
        "colab": {
          "base_uri": "https://localhost:8080/",
          "height": 36
        },
        "outputId": "403ab16c-5985-49d9-b20a-5da591b99461"
      },
      "source": [
        "model = MultinomialNB()\n",
        "param_grid = {\n",
        "    'alpha': [0.0001, 0.001, 0.01, 1, 10], # smoothing parameter\n",
        "    'fit_prior': [ True, False]}\n",
        "BestParams(model, param_grid)"
      ],
      "execution_count": 14,
      "outputs": [
        {
          "output_type": "stream",
          "text": [
            "{'alpha': 0.01, 'fit_prior': True}\n"
          ],
          "name": "stdout"
        }
      ]
    },
    {
      "cell_type": "markdown",
      "metadata": {
        "id": "fGRgMMCTpP48",
        "colab_type": "text"
      },
      "source": [
        "Tuned Model"
      ]
    },
    {
      "cell_type": "code",
      "metadata": {
        "id": "VN9SR9oYpSQw",
        "colab_type": "code",
        "colab": {
          "base_uri": "https://localhost:8080/",
          "height": 223
        },
        "outputId": "5301782c-16f5-4557-b506-6ff5ca98eb99"
      },
      "source": [
        "x_train, x_test, y_train, y_test = model_fit(MultinomialNB(alpha=0.01, fit_prior=True), DNA)"
      ],
      "execution_count": 15,
      "outputs": [
        {
          "output_type": "stream",
          "text": [
            "                   pre       rec       spe        f1       geo       iba       sup\n",
            "\n",
            "          0       0.12      0.12      0.81      0.12      0.31      0.09        41\n",
            "          1       0.70      0.42      0.88      0.52      0.61      0.35        93\n",
            "          2       0.22      0.53      0.87      0.31      0.68      0.45        15\n",
            "          3       0.33      0.31      0.90      0.32      0.53      0.26        32\n",
            "          4       0.06      0.13      0.84      0.08      0.34      0.10        15\n",
            "          5       0.15      0.14      0.86      0.14      0.35      0.11        36\n",
            "\n",
            "avg / total       0.39      0.30      0.86      0.32      0.49      0.25       232\n",
            "\n"
          ],
          "name": "stdout"
        }
      ]
    },
    {
      "cell_type": "markdown",
      "metadata": {
        "id": "xLGbrNPksy_t",
        "colab_type": "text"
      },
      "source": [
        "# Model #3: KNN"
      ]
    },
    {
      "cell_type": "markdown",
      "metadata": {
        "id": "_Xt7Y_NGtXvN",
        "colab_type": "text"
      },
      "source": [
        "Original Model"
      ]
    },
    {
      "cell_type": "code",
      "metadata": {
        "id": "-nevZKzUtZ5S",
        "colab_type": "code",
        "colab": {
          "base_uri": "https://localhost:8080/",
          "height": 223
        },
        "outputId": "71509203-04b9-45c8-b615-b8fa5969b9aa"
      },
      "source": [
        "x_train, x_test, y_train, y_test = model_fit(KNeighborsClassifier(), DNA)"
      ],
      "execution_count": 16,
      "outputs": [
        {
          "output_type": "stream",
          "text": [
            "                   pre       rec       spe        f1       geo       iba       sup\n",
            "\n",
            "          0       0.22      0.20      0.85      0.21      0.41      0.16        41\n",
            "          1       0.94      0.16      0.99      0.28      0.40      0.15        93\n",
            "          2       0.24      0.27      0.94      0.25      0.50      0.23        15\n",
            "          3       0.16      0.59      0.49      0.25      0.54      0.29        32\n",
            "          4       0.06      0.13      0.87      0.09      0.34      0.11        15\n",
            "          5       0.18      0.06      0.95      0.09      0.23      0.05        36\n",
            "\n",
            "avg / total       0.48      0.22      0.88      0.22      0.40      0.16       232\n",
            "\n"
          ],
          "name": "stdout"
        }
      ]
    },
    {
      "cell_type": "markdown",
      "metadata": {
        "id": "tee7WIZazmK0",
        "colab_type": "text"
      },
      "source": [
        "Hyperparameters tuning"
      ]
    },
    {
      "cell_type": "code",
      "metadata": {
        "id": "G2e4wP-vt0ih",
        "colab_type": "code",
        "colab": {
          "base_uri": "https://localhost:8080/",
          "height": 36
        },
        "outputId": "d4606aab-15dc-4b31-ded2-560904c8afe9"
      },
      "source": [
        "model = KNeighborsClassifier()\n",
        "param_grid = {\n",
        "    'n_neighbors': [3, 5,10,20, 50], \n",
        "    'weights': [ 'uniform', 'distance'], \n",
        "    'metric': ['euclidean', 'manhattan','minkowski']}\n",
        "\n",
        "BestParams(model, param_grid)"
      ],
      "execution_count": 17,
      "outputs": [
        {
          "output_type": "stream",
          "text": [
            "{'metric': 'euclidean', 'n_neighbors': 3, 'weights': 'uniform'}\n"
          ],
          "name": "stdout"
        }
      ]
    },
    {
      "cell_type": "markdown",
      "metadata": {
        "id": "xnpbFnbeuRR_",
        "colab_type": "text"
      },
      "source": [
        "Tuned Model"
      ]
    },
    {
      "cell_type": "code",
      "metadata": {
        "id": "061xZW9luS5R",
        "colab_type": "code",
        "colab": {
          "base_uri": "https://localhost:8080/",
          "height": 223
        },
        "outputId": "4d60a8c6-3ddf-434b-d543-4f7c5d3cc3eb"
      },
      "source": [
        "x_train, x_test, y_train, y_test = model_fit(KNeighborsClassifier(metric='euclidean', n_neighbors=3, weights= 'uniform'), DNA)"
      ],
      "execution_count": 18,
      "outputs": [
        {
          "output_type": "stream",
          "text": [
            "                   pre       rec       spe        f1       geo       iba       sup\n",
            "\n",
            "          0       0.17      0.17      0.83      0.17      0.38      0.13        41\n",
            "          1       0.58      0.86      0.58      0.69      0.71      0.52        93\n",
            "          2       0.24      0.27      0.94      0.25      0.50      0.23        15\n",
            "          3       0.31      0.12      0.95      0.18      0.35      0.11        32\n",
            "          4       0.10      0.13      0.91      0.11      0.35      0.11        15\n",
            "          5       0.67      0.06      0.99      0.10      0.24      0.05        36\n",
            "\n",
            "avg / total       0.43      0.43      0.79      0.37      0.49      0.28       232\n",
            "\n"
          ],
          "name": "stdout"
        }
      ]
    },
    {
      "cell_type": "markdown",
      "metadata": {
        "id": "Xoqpju7gug64",
        "colab_type": "text"
      },
      "source": [
        "# Model #4: SVM"
      ]
    },
    {
      "cell_type": "markdown",
      "metadata": {
        "id": "MxLEI7a4ul0R",
        "colab_type": "text"
      },
      "source": [
        "Original Model"
      ]
    },
    {
      "cell_type": "code",
      "metadata": {
        "id": "o59CH8iiuk6X",
        "colab_type": "code",
        "colab": {
          "base_uri": "https://localhost:8080/",
          "height": 223
        },
        "outputId": "790d5b67-a9f1-4778-e519-632a5570bc3d"
      },
      "source": [
        "x_train, x_test, y_train, y_test = model_fit(SVC(), DNA)"
      ],
      "execution_count": 19,
      "outputs": [
        {
          "output_type": "stream",
          "text": [
            "                   pre       rec       spe        f1       geo       iba       sup\n",
            "\n",
            "          0       0.07      0.02      0.93      0.04      0.15      0.02        41\n",
            "          1       0.66      0.20      0.93      0.31      0.44      0.18        93\n",
            "          2       0.08      0.60      0.52      0.14      0.56      0.31        15\n",
            "          3       0.33      0.25      0.92      0.29      0.48      0.21        32\n",
            "          4       0.07      0.13      0.88      0.09      0.34      0.11        15\n",
            "          5       0.22      0.14      0.91      0.17      0.36      0.12        36\n",
            "\n",
            "avg / total       0.36      0.19      0.89      0.21      0.38      0.15       232\n",
            "\n"
          ],
          "name": "stdout"
        }
      ]
    },
    {
      "cell_type": "markdown",
      "metadata": {
        "id": "0cwqKdzsu8jz",
        "colab_type": "text"
      },
      "source": [
        "Hyperparameters Tuning"
      ]
    },
    {
      "cell_type": "code",
      "metadata": {
        "id": "LoOYHeslvTyx",
        "colab_type": "code",
        "colab": {
          "base_uri": "https://localhost:8080/",
          "height": 36
        },
        "outputId": "99eb2955-2838-47d7-e823-682c6cf12e8b"
      },
      "source": [
        "model = SVC()\n",
        "param_grid = {\n",
        "    'C': [ 0.1, 1, 10], \n",
        "    'gamma': [0.1,0.01,0.001], # for rbf\n",
        "    'kernel': ['rbf', 'poly'],\n",
        "    'degree': [1,2,3]\n",
        "}\n",
        "BestParams(model, param_grid)"
      ],
      "execution_count": 20,
      "outputs": [
        {
          "output_type": "stream",
          "text": [
            "{'C': 0.1, 'degree': 1, 'gamma': 0.01, 'kernel': 'poly'}\n"
          ],
          "name": "stdout"
        }
      ]
    },
    {
      "cell_type": "markdown",
      "metadata": {
        "id": "_D-4kPRdxHf_",
        "colab_type": "text"
      },
      "source": [
        "Tuned Model"
      ]
    },
    {
      "cell_type": "code",
      "metadata": {
        "id": "gie8BFQ0XyM_",
        "colab_type": "code",
        "colab": {
          "base_uri": "https://localhost:8080/",
          "height": 223
        },
        "outputId": "006663ef-5698-4e3c-9ed6-150f539cb9b7"
      },
      "source": [
        "x_train, x_test, y_train, y_test =  model_fit(SVC(C=0.1, kernel= 'poly', degree=1), DNA)"
      ],
      "execution_count": 21,
      "outputs": [
        {
          "output_type": "stream",
          "text": [
            "                   pre       rec       spe        f1       geo       iba       sup\n",
            "\n",
            "          0       0.13      0.37      0.47      0.19      0.41      0.17        41\n",
            "          1       0.78      0.30      0.94      0.43      0.53      0.27        93\n",
            "          2       0.23      0.33      0.92      0.27      0.55      0.29        15\n",
            "          3       0.35      0.19      0.94      0.24      0.42      0.16        32\n",
            "          4       0.22      0.13      0.97      0.17      0.36      0.12        15\n",
            "          5       0.19      0.17      0.87      0.18      0.38      0.14        36\n",
            "\n",
            "avg / total       0.44      0.27      0.85      0.30      0.46      0.21       232\n",
            "\n"
          ],
          "name": "stdout"
        }
      ]
    }
  ]
}